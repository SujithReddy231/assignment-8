{
 "cells": [
  {
   "cell_type": "code",
   "execution_count": 1,
   "metadata": {},
   "outputs": [
    {
     "name": "stdout",
     "output_type": "stream",
     "text": [
      "sujith reddy\n",
      "\n",
      "sujith reddy\n"
     ]
    }
   ],
   "source": [
    "str='sujith reddy\\n'\n",
    "print(str)\n",
    "print(str.rstrip())"
   ]
  },
  {
   "cell_type": "code",
   "execution_count": 2,
   "metadata": {},
   "outputs": [
    {
     "name": "stdout",
     "output_type": "stream",
     "text": [
      "enter string:Suuuuuuuuuuuuuuuuuujjjjjjjjjjjjjjjjjjjjjiiiiiiiiiiiiiiiiitttttttttthh\n",
      "['h', 'S', 'u', 'j', 'i', 't']\n",
      "['S', 'h', 'i', 'j', 't', 'u']\n",
      "{'S': 1, 'h': 2, 'i': 17, 'j': 21, 't': 10, 'u': 18}\n"
     ]
    }
   ],
   "source": [
    "str=input(\"enter string:\")\n",
    "s1=set(str)\n",
    "l1=list(s1)\n",
    "print(l1)\n",
    "l1.sort()\n",
    "print(l1)\n",
    "cl=[]\n",
    "for i in l1:\n",
    "    c=0\n",
    "    for j in str:\n",
    "        if j==i:\n",
    "            c=c+1\n",
    "    cl.append(c)\n",
    "d={}\n",
    "j=0\n",
    "for i in l1:\n",
    "    d[i]=cl[j]\n",
    "    j=j+1\n",
    "print(d)"
   ]
  },
  {
   "cell_type": "code",
   "execution_count": 3,
   "metadata": {},
   "outputs": [
    {
     "name": "stdout",
     "output_type": "stream",
     "text": [
      "enter string:sujith reddy\n",
      "length of string sujith reddy is 12\n"
     ]
    }
   ],
   "source": [
    "str=input(\"enter string:\")\n",
    "c=0\n",
    "for i in str:\n",
    "    c=c+1\n",
    "print(\"length of string\",str,\"is\",c)"
   ]
  },
  {
   "cell_type": "code",
   "execution_count": 4,
   "metadata": {},
   "outputs": [
    {
     "name": "stdout",
     "output_type": "stream",
     "text": [
      "enter string:Sujith Reddy\n",
      "SUJITH REDDY\n",
      "sujith reddy\n"
     ]
    }
   ],
   "source": [
    "str=input(\"enter string:\")\n",
    "print(str.upper())\n",
    "print(str.lower())"
   ]
  },
  {
   "cell_type": "code",
   "execution_count": 5,
   "metadata": {},
   "outputs": [
    {
     "name": "stdout",
     "output_type": "stream",
     "text": [
      "enter string:nikhil reddy\n",
      "['nikhil', 'reddy']\n",
      "nikhil reddy\n",
      "rikhil neddy\n"
     ]
    }
   ],
   "source": [
    "str=input(\"enter string:\")\n",
    "l1=str.split(' ')\n",
    "print(l1)\n",
    "str1=l1[0]\n",
    "str2=l1[1]\n",
    "str1c=str2[0]+str1[1:]\n",
    "str2c=str1[0]+str2[1:]\n",
    "print(str1,str2)\n",
    "print(str1c,str2c)"
   ]
  },
  {
   "cell_type": "code",
   "execution_count": 6,
   "metadata": {},
   "outputs": [
    {
     "name": "stdout",
     "output_type": "stream",
     "text": [
      "enter string:suujith reddy\n",
      "enter character to be deleted:u\n",
      "sujith reddy\n"
     ]
    }
   ],
   "source": [
    "str=input(\"enter string:\")\n",
    "c=input(\"enter character to be deleted:\")\n",
    "l1=list(str)\n",
    "l1.remove(c)\n",
    "str2=''\n",
    "for i in l1:\n",
    "    str2=str2+i\n",
    "print(str2)"
   ]
  },
  {
   "cell_type": "code",
   "execution_count": 7,
   "metadata": {},
   "outputs": [
    {
     "name": "stdout",
     "output_type": "stream",
     "text": [
      "enter string:Sujith reddy\n",
      "['S', 'u', 'j', 'i', 't', 'h', ' ', 'r', 'e', 'd', 'd', 'y']\n"
     ]
    }
   ],
   "source": [
    "str=input(\"enter string:\")\n",
    "l1=list(str)\n",
    "print(l1)"
   ]
  },
  {
   "cell_type": "code",
   "execution_count": 8,
   "metadata": {},
   "outputs": [
    {
     "name": "stdout",
     "output_type": "stream",
     "text": [
      "enter string:so sooid sooiddd ddsoo sooooo\n",
      "enter string to be searched:so\n",
      "count of-- so --in string-- so sooid sooiddd ddsoo sooooo --is:\n",
      " 5\n"
     ]
    }
   ],
   "source": [
    "str=input(\"enter string:\")\n",
    "sub_str=input(\"enter string to be searched:\")\n",
    "l1=str.split(' ')\n",
    "c=0\n",
    "for i in l1:\n",
    "    if sub_str in i:\n",
    "        c=c+1\n",
    "print('count of--',sub_str,'--in string--',str,'--is:\\n',c)"
   ]
  },
  {
   "cell_type": "code",
   "execution_count": 9,
   "metadata": {},
   "outputs": [
    {
     "name": "stdout",
     "output_type": "stream",
     "text": [
      "length of refrigerator is 12\n"
     ]
    }
   ],
   "source": [
    "str=\"refrigerator\"\n",
    "c=0\n",
    "for i in str:\n",
    "    c=c+1\n",
    "print(\"length of\",str,'is',c)"
   ]
  },
  {
   "cell_type": "code",
   "execution_count": 10,
   "metadata": {},
   "outputs": [
    {
     "name": "stdout",
     "output_type": "stream",
     "text": [
      "enter string:Sujith reddy\n",
      "S\n",
      "u\n",
      "j\n",
      "i\n",
      "t\n",
      "h\n",
      " \n",
      "r\n",
      "e\n",
      "d\n",
      "d\n",
      "y\n"
     ]
    }
   ],
   "source": [
    "str=input(\"enter string:\")\n",
    "for i in str:\n",
    "    print(i)"
   ]
  },
  {
   "cell_type": "code",
   "execution_count": null,
   "metadata": {},
   "outputs": [],
   "source": []
  }
 ],
 "metadata": {
  "kernelspec": {
   "display_name": "Python 3",
   "language": "python",
   "name": "python3"
  },
  "language_info": {
   "codemirror_mode": {
    "name": "ipython",
    "version": 3
   },
   "file_extension": ".py",
   "mimetype": "text/x-python",
   "name": "python",
   "nbconvert_exporter": "python",
   "pygments_lexer": "ipython3",
   "version": "3.8.3"
  }
 },
 "nbformat": 4,
 "nbformat_minor": 4
}
